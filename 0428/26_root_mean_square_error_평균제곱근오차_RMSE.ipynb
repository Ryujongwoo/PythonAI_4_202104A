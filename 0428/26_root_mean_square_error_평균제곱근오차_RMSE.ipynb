{
 "cells": [
  {
   "cell_type": "markdown",
   "id": "ffcca594",
   "metadata": {},
   "source": [
    "평균 제곱근 오차(Root Mean Square Error, RMSE)  \n",
    "임의의 선을 그리고 난 후 이 선이 얼마나 잘 그려졌는지 평가해서 조금씩 수정해 나간다.  \n",
    "이를 위해서 주어진 선의 오차를 평가하는 알고리즘이 필요한데 그 중에서 가장 많이 사용되는 방법이 평균 제곱근 오차이다."
   ]
  },
  {
   "cell_type": "code",
   "execution_count": 1,
   "id": "77f72065",
   "metadata": {},
   "outputs": [],
   "source": [
    "import warnings\n",
    "warnings.filterwarnings('ignore')\n",
    "import numpy as np \n",
    "import pandas as pd"
   ]
  },
  {
   "cell_type": "code",
   "execution_count": 2,
   "id": "e3f8c75c",
   "metadata": {},
   "outputs": [
    {
     "name": "stdout",
     "output_type": "stream",
     "text": [
      "공부한 시간 : 2, 실제 성적 : 81\n",
      "공부한 시간 : 4, 실제 성적 : 93\n",
      "공부한 시간 : 6, 실제 성적 : 91\n",
      "공부한 시간 : 8, 실제 성적 : 97\n"
     ]
    }
   ],
   "source": [
    "# x, y의 데이터 값이 1건씩 저장된 리스트 => [공부한 시간(x), 실제 성적(y)]\n",
    "data = [[2, 81], [4, 93], [6, 91], [8, 97]]\n",
    "# 기울기 a와 y절편 b를 임의로 정한다. => [기울기, y절편]\n",
    "ab = [3, 76] # 2.3, 79\n",
    "\n",
    "for i in data:\n",
    "    print('공부한 시간 : {}, 실제 성적 : {}'.format(i[0], i[1]))"
   ]
  },
  {
   "cell_type": "code",
   "execution_count": 3,
   "id": "66990158",
   "metadata": {},
   "outputs": [
    {
     "name": "stdout",
     "output_type": "stream",
     "text": [
      "공부한 시간 : 2, 실제 성적 : 81\n",
      "공부한 시간 : 4, 실제 성적 : 93\n",
      "공부한 시간 : 6, 실제 성적 : 91\n",
      "공부한 시간 : 8, 실제 성적 : 97\n"
     ]
    }
   ],
   "source": [
    "# x, y의 데이터 값이 1건씩 저장된 리스트에서 공부한 시간(x), 실제 성적(y)을 뽑아내서 각각 별도의 리스트에 저장한다.\n",
    "x = [i[0] for i in data] # 공부한 시간\n",
    "y = [i[1] for i in data] # 시험 성적\n",
    "for i in range(len(x)):\n",
    "    print('공부한 시간 : {}, 실제 성적 : {}'.format(x[i], y[i]))"
   ]
  },
  {
   "cell_type": "code",
   "execution_count": 4,
   "id": "68b8e57d",
   "metadata": {},
   "outputs": [],
   "source": [
    "# y = a * x + b에 a(기울기), b(y절편) 값을 대입해서 결과(예측 성적)를 계산하는 함수\n",
    "def predict(x):\n",
    "    return ab[0] * x + ab[1]"
   ]
  },
  {
   "cell_type": "code",
   "execution_count": 5,
   "id": "610a08db",
   "metadata": {},
   "outputs": [
    {
     "name": "stdout",
     "output_type": "stream",
     "text": [
      "공부한 시간 : 2, 실제 성적 : 81, 예측 성적 : 82\n",
      "공부한 시간 : 4, 실제 성적 : 93, 예측 성적 : 88\n",
      "공부한 시간 : 6, 실제 성적 : 91, 예측 성적 : 94\n",
      "공부한 시간 : 8, 실제 성적 : 97, 예측 성적 : 100\n"
     ]
    }
   ],
   "source": [
    "# 임의로 정한 기울기와 y절편으로 예측 성적을 계산한다.\n",
    "# 임의로 정한 기울기와 y절편을 이용해 계산된 예측 성적이 저장될 빈 리스트를 만든다. => 빈 리스트에 데이터는 append() 메소드로\n",
    "# 추가한다.\n",
    "predict_result = []\n",
    "# 모든 공부 시간(x) 값을 한 번씩 대입해서 예측 성적(predict_result) 리스트를 완성한다.\n",
    "for i in range(len(x)):\n",
    "    # 공부한 시간에 따른 예측 성적을 계산하는 함수 predict()를 실행해서 얻어진 예측 성적을 predict_result 리스트에 추가한다.\n",
    "    predict_result.append(predict(x[i]))\n",
    "    print('공부한 시간 : {}, 실제 성적 : {}, 예측 성적 : {}'.format(x[i], y[i], predict_result[i]))"
   ]
  },
  {
   "cell_type": "code",
   "execution_count": null,
   "id": "39bb7f56",
   "metadata": {},
   "outputs": [],
   "source": []
  },
  {
   "cell_type": "code",
   "execution_count": null,
   "id": "a4c2397c",
   "metadata": {},
   "outputs": [],
   "source": []
  },
  {
   "cell_type": "code",
   "execution_count": null,
   "id": "be7e0bc1",
   "metadata": {},
   "outputs": [],
   "source": []
  },
  {
   "cell_type": "code",
   "execution_count": null,
   "id": "3fd88ffa",
   "metadata": {},
   "outputs": [],
   "source": []
  }
 ],
 "metadata": {
  "kernelspec": {
   "display_name": "Python 3",
   "language": "python",
   "name": "python3"
  },
  "language_info": {
   "codemirror_mode": {
    "name": "ipython",
    "version": 3
   },
   "file_extension": ".py",
   "mimetype": "text/x-python",
   "name": "python",
   "nbconvert_exporter": "python",
   "pygments_lexer": "ipython3",
   "version": "3.6.8"
  }
 },
 "nbformat": 4,
 "nbformat_minor": 5
}
